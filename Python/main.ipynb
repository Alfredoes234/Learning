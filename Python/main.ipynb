{
 "cells": [
  {
   "cell_type": "code",
   "execution_count": 14,
   "metadata": {},
   "outputs": [
    {
     "name": "stdout",
     "output_type": "stream",
     "text": [
      "Hello\n"
     ]
    }
   ],
   "source": [
    "print(\"Hello\")\n"
   ]
  },
  {
   "cell_type": "code",
   "execution_count": 15,
   "metadata": {},
   "outputs": [
    {
     "data": {
      "text/plain": [
       "'\\nCool comment\\n'"
      ]
     },
     "execution_count": 15,
     "metadata": {},
     "output_type": "execute_result"
    }
   ],
   "source": [
    "# Comment\n",
    "\n",
    "\"\"\"\n",
    "Cool comment\n",
    "\"\"\""
   ]
  },
  {
   "cell_type": "code",
   "execution_count": 16,
   "metadata": {},
   "outputs": [
    {
     "name": "stdout",
     "output_type": "stream",
     "text": [
      "60\n",
      "Volvo\n"
     ]
    }
   ],
   "source": [
    "global x \n",
    "global n\n",
    "x = 50\n",
    "y= 10\n",
    "n = 2.1\n",
    "carname = 'Volvo'\n",
    "z = x + y \n",
    "print(z)\n",
    "print(carname)"
   ]
  },
  {
   "cell_type": "code",
   "execution_count": 17,
   "metadata": {},
   "outputs": [
    {
     "name": "stdout",
     "output_type": "stream",
     "text": [
      "Sun\n",
      "Sun\n",
      "Sun\n",
      "pain\n",
      "torture\n",
      "hatred\n"
     ]
    }
   ],
   "source": [
    "a = b = c = 'Sun'\n",
    "print(a)\n",
    "print(b)\n",
    "print(c)\n",
    "\n",
    "w, e, r = 'pain', 'torture', 'hatred'\n",
    "print(w)\n",
    "print(e)\n",
    "print(r)"
   ]
  },
  {
   "cell_type": "code",
   "execution_count": 18,
   "metadata": {},
   "outputs": [],
   "source": [
    "global canca \n",
    "canca  = 'fun'\n",
    "global ls\n",
    "ls = [1,1,2,3]\n",
    "global tup\n",
    "tup = ('aaa','aa','a')\n",
    "global dic\n",
    "dic = {\"name\" : \"John\", \"age\" : 36}\n",
    "global bal\n",
    "bal = True"
   ]
  },
  {
   "cell_type": "code",
   "execution_count": 19,
   "metadata": {},
   "outputs": [
    {
     "name": "stdout",
     "output_type": "stream",
     "text": [
      "<class 'str'>\n",
      "<class 'int'>\n",
      "<class 'float'>\n",
      "<class 'list'>\n",
      "<class 'tuple'>\n",
      "<class 'dict'>\n",
      "<class 'bool'>\n"
     ]
    }
   ],
   "source": [
    "print(type(canca))\n",
    "print(type(x))\n",
    "print(type(n))\n",
    "print(type(ls))\n",
    "print(type(tup))\n",
    "print(type(dic))\n",
    "print(type(bal))"
   ]
  },
  {
   "cell_type": "code",
   "execution_count": 20,
   "metadata": {},
   "outputs": [],
   "source": [
    "def hello():\n",
    "    print('Hello')"
   ]
  },
  {
   "cell_type": "code",
   "execution_count": 21,
   "metadata": {},
   "outputs": [
    {
     "name": "stdout",
     "output_type": "stream",
     "text": [
      "Hello\n"
     ]
    }
   ],
   "source": [
    "hello()"
   ]
  },
  {
   "cell_type": "code",
   "execution_count": 22,
   "metadata": {},
   "outputs": [
    {
     "name": "stdout",
     "output_type": "stream",
     "text": [
      "5 5.0\n",
      "3.1 3\n",
      "5 (5+0j)\n",
      "<class 'str'>\n"
     ]
    }
   ],
   "source": [
    "m = 5\n",
    "n = float(m)\n",
    "b = 3.1\n",
    "v = int(b)\n",
    "l = complex(5)\n",
    "k = str(m)\n",
    "\n",
    "print(m,n)\n",
    "print(b,v)\n",
    "print(m,l)\n",
    "print(type(k))"
   ]
  },
  {
   "cell_type": "code",
   "execution_count": 39,
   "metadata": {},
   "outputs": [
    {
     "name": "stdout",
     "output_type": "stream",
     "text": [
      "8\n",
      "1\n",
      "345\n",
      " Cake \n",
      "Cake\n",
      " CAKE \n",
      " cake \n",
      " Bake \n",
      "I am john and I am a  Cake \n"
     ]
    }
   ],
   "source": [
    "a = '12345678'\n",
    "b = ' Cake '\n",
    "c = 'I am john and I am a {}'\n",
    "\n",
    "print(len(a))\n",
    "print(a[0])\n",
    "print(a[2:5])\n",
    "print(b)\n",
    "print(b.strip())\n",
    "print(b.upper())\n",
    "print(b.lower())\n",
    "print(b.replace('C','B'))\n",
    "print(c.format(b))"
   ]
  }
 ],
 "metadata": {
  "kernelspec": {
   "display_name": "Python 3",
   "language": "python",
   "name": "python3"
  },
  "language_info": {
   "codemirror_mode": {
    "name": "ipython",
    "version": 3
   },
   "file_extension": ".py",
   "mimetype": "text/x-python",
   "name": "python",
   "nbconvert_exporter": "python",
   "pygments_lexer": "ipython3",
   "version": "3.11.3"
  },
  "orig_nbformat": 4
 },
 "nbformat": 4,
 "nbformat_minor": 2
}
