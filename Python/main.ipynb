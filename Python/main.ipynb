{
 "cells": [
  {
   "cell_type": "code",
   "execution_count": 1,
   "metadata": {},
   "outputs": [
    {
     "name": "stdout",
     "output_type": "stream",
     "text": [
      "Hello\n"
     ]
    }
   ],
   "source": [
    "print(\"Hello\")\n"
   ]
  },
  {
   "cell_type": "code",
   "execution_count": 2,
   "metadata": {},
   "outputs": [
    {
     "name": "stdout",
     "output_type": "stream",
     "text": [
      "WOWOWOWO\n"
     ]
    }
   ],
   "source": [
    "p = input('Fun is here: \\n')\n",
    "if p.isalpha() == False:\n",
    "    print('WOWOWOWO')\n",
    "else:\n",
    "    print('Dahhh')"
   ]
  },
  {
   "cell_type": "code",
   "execution_count": 3,
   "metadata": {},
   "outputs": [
    {
     "data": {
      "text/plain": [
       "'\\nCool comment\\n'"
      ]
     },
     "execution_count": 3,
     "metadata": {},
     "output_type": "execute_result"
    }
   ],
   "source": [
    "# Comment\n",
    "\n",
    "\"\"\"\n",
    "Cool comment\n",
    "\"\"\""
   ]
  },
  {
   "cell_type": "code",
   "execution_count": 4,
   "metadata": {},
   "outputs": [
    {
     "name": "stdout",
     "output_type": "stream",
     "text": [
      "60\n",
      "Volvo\n"
     ]
    }
   ],
   "source": [
    "global x \n",
    "global n\n",
    "x = 50\n",
    "y= 10\n",
    "n = 2.1\n",
    "carname = 'Volvo'\n",
    "z = x + y \n",
    "print(z)\n",
    "print(carname)"
   ]
  },
  {
   "cell_type": "code",
   "execution_count": 5,
   "metadata": {},
   "outputs": [
    {
     "name": "stdout",
     "output_type": "stream",
     "text": [
      "Sun\n",
      "Sun\n",
      "Sun\n",
      "pain\n",
      "torture\n",
      "hatred\n"
     ]
    }
   ],
   "source": [
    "a = b = c = 'Sun'\n",
    "print(a)\n",
    "print(b)\n",
    "print(c)\n",
    "\n",
    "w, e, r = 'pain', 'torture', 'hatred'\n",
    "print(w)\n",
    "print(e)\n",
    "print(r)"
   ]
  },
  {
   "cell_type": "code",
   "execution_count": 6,
   "metadata": {},
   "outputs": [],
   "source": [
    "global canca \n",
    "canca  = 'fun'\n",
    "global ls\n",
    "ls = [1,1,2,3]\n",
    "global tup\n",
    "tup = ('aaa','aa','a')\n",
    "global dic\n",
    "dic = {\"name\" : \"John\", \"age\" : 36}\n",
    "global bal\n",
    "bal = True"
   ]
  },
  {
   "cell_type": "code",
   "execution_count": 7,
   "metadata": {},
   "outputs": [
    {
     "name": "stdout",
     "output_type": "stream",
     "text": [
      "<class 'str'>\n",
      "<class 'int'>\n",
      "<class 'float'>\n",
      "<class 'list'>\n",
      "<class 'tuple'>\n",
      "<class 'dict'>\n",
      "<class 'bool'>\n"
     ]
    }
   ],
   "source": [
    "print(type(canca))\n",
    "print(type(x))\n",
    "print(type(n))\n",
    "print(type(ls))\n",
    "print(type(tup))\n",
    "print(type(dic))\n",
    "print(type(bal))"
   ]
  },
  {
   "cell_type": "code",
   "execution_count": 8,
   "metadata": {},
   "outputs": [],
   "source": [
    "def hello():\n",
    "    print('Hello')"
   ]
  },
  {
   "cell_type": "code",
   "execution_count": 9,
   "metadata": {},
   "outputs": [
    {
     "name": "stdout",
     "output_type": "stream",
     "text": [
      "Hello\n"
     ]
    }
   ],
   "source": [
    "hello()"
   ]
  },
  {
   "cell_type": "code",
   "execution_count": 10,
   "metadata": {},
   "outputs": [
    {
     "name": "stdout",
     "output_type": "stream",
     "text": [
      "5 5.0\n",
      "3.1 3\n",
      "5 (5+0j)\n",
      "<class 'str'>\n"
     ]
    }
   ],
   "source": [
    "m = 5\n",
    "n = float(m)\n",
    "b = 3.1\n",
    "v = int(b)\n",
    "l = complex(5)\n",
    "k = str(m)\n",
    "\n",
    "print(m,n)\n",
    "print(b,v)\n",
    "print(m,l)\n",
    "print(type(k))"
   ]
  },
  {
   "cell_type": "code",
   "execution_count": 11,
   "metadata": {},
   "outputs": [
    {
     "name": "stdout",
     "output_type": "stream",
     "text": [
      "8\n",
      "1\n",
      "345\n",
      " Cake \n",
      "Cake\n",
      " CAKE \n",
      " cake \n",
      " Bake \n",
      "I am john and I am a  Cake \n"
     ]
    }
   ],
   "source": [
    "a = '12345678'\n",
    "b = ' Cake '\n",
    "c = 'I am john and I am a {}'\n",
    "\n",
    "print(len(a))\n",
    "print(a[0])\n",
    "print(a[2:5])\n",
    "print(b)\n",
    "print(b.strip())\n",
    "print(b.upper())\n",
    "print(b.lower())\n",
    "print(b.replace('C','B'))\n",
    "print(c.format(b))"
   ]
  },
  {
   "cell_type": "code",
   "execution_count": 12,
   "metadata": {},
   "outputs": [
    {
     "name": "stdout",
     "output_type": "stream",
     "text": [
      "24\n",
      "-14\n",
      "95\n",
      "0.2631578947368421\n",
      "5\n",
      "19073486328125\n",
      "0\n"
     ]
    }
   ],
   "source": [
    "t = 5\n",
    "r = 19\n",
    "print(t + r)\n",
    "print(t - r)\n",
    "print(t * r)\n",
    "print(t / r)\n",
    "print(t % r)\n",
    "print(t ** r)\n",
    "print(t // r)"
   ]
  },
  {
   "cell_type": "code",
   "execution_count": 13,
   "metadata": {},
   "outputs": [
    {
     "name": "stdout",
     "output_type": "stream",
     "text": [
      "banan\n",
      "['Kiwi', 'apple', 'orange', 'pineapple']\n"
     ]
    }
   ],
   "source": [
    "fruit = ['banan', 'apple', 'orange']\n",
    "print(fruit[0])\n",
    "fruit[0] = 'Kiwi'\n",
    "fruit.append('pineapple')\n",
    "print(fruit)"
   ]
  },
  {
   "cell_type": "code",
   "execution_count": 14,
   "metadata": {},
   "outputs": [
    {
     "name": "stdout",
     "output_type": "stream",
     "text": [
      "('apple', 'banana', 'cherry', 'orange', 'kiwi', 'melon', 'mango')\n",
      "apple\n",
      "7\n",
      "mango\n",
      "('cherry', 'orange', 'kiwi')\n"
     ]
    }
   ],
   "source": [
    "fun = (\"apple\", \"banana\", \"cherry\", \"orange\", \"kiwi\", \"melon\", \"mango\")\n",
    "print(fun)\n",
    "print(fun[0])\n",
    "print(len(fun))\n",
    "print(fun[-1])\n",
    "print(fun[2:5])\n",
    "# To add to a tuple you need to convert it to a list"
   ]
  },
  {
   "cell_type": "code",
   "execution_count": 15,
   "metadata": {},
   "outputs": [
    {
     "name": "stdout",
     "output_type": "stream",
     "text": [
      "Wow there is a apple\n",
      "{'Cherry', 'Apple', 'Orange'}\n",
      "{'Cherry', 'Apple', 'Kiwi', 'Orange'}\n",
      "{'Pineapple', 'Kiwi', 'Orange', 'Dragon Fruit', 'Cherry', 'Strawberry', 'Apple'}\n",
      "{'Pineapple', 'Kiwi', 'Orange', 'Dragon Fruit', 'Cherry', 'Apple'}\n",
      "{'Pineapple', 'Dragon Fruit', 'Cherry', 'Icecream', 'Cake', 'Apple', 'Kiwi', 'Orange'}\n"
     ]
    }
   ],
   "source": [
    "pi = {'Apple', 'Cherry', 'Orange'}\n",
    "if 'Apple' in pi:\n",
    "    print('Wow there is a apple')\n",
    "print(pi)\n",
    "pi.add('Kiwi')\n",
    "print(pi)\n",
    "moreFruit = ['Strawberry', 'Pineapple', 'Dragon Fruit']\n",
    "pi.update(moreFruit)\n",
    "print(pi)\n",
    "# Or use discard() to remove and del and then the set names deletes it all\n",
    "pi.remove(\"Strawberry\")\n",
    "print(pi)\n",
    "e = {'Cake', 'Icecream'}\n",
    "# Or update()\n",
    "set = pi.union(e)\n",
    "print(set)\n",
    "# intersection_update() only keeps items present in both locations and symmetric_difference_update() is the opposite"
   ]
  },
  {
   "cell_type": "code",
   "execution_count": 16,
   "metadata": {},
   "outputs": [
    {
     "name": "stdout",
     "output_type": "stream",
     "text": [
      "{'brand': 'Ford', 'electric': False, 'year': 1964, 'colors': ['red', 'white', 'blue']}\n",
      "{'name': 'John', 'age': 36, 'country': 'Norway'}\n",
      "Ford\n",
      "dict_keys(['brand', 'electric', 'year', 'colors'])\n",
      "{'brand': 'Ford', 'electric': False, 'year': 2005, 'colors': ['red', 'white', 'blue']}\n",
      "{'brand': 'Ford', 'electric': False, 'year': 2005, 'colors': ['red', 'white', 'blue'], 'cum': True}\n",
      "{'brand': 'Ford', 'electric': False, 'year': 2005, 'colors': ['red', 'white', 'blue']}\n",
      "{}\n"
     ]
    }
   ],
   "source": [
    "thisdict = {\n",
    "  \"brand\": \"Ford\",\n",
    "  \"electric\": False,\n",
    "  \"year\": 1964,\n",
    "  \"colors\": [\"red\", \"white\", \"blue\"]\n",
    "}\n",
    "thisdict2 = dict(name = \"John\", age = 36, country = \"Norway\")\n",
    "\n",
    "print(thisdict)\n",
    "print(thisdict2)\n",
    "print(thisdict.get(\"brand\"))\n",
    "# .keys() for the dict keys and .values() for the dict values and .items() returns a tuple\n",
    "print(thisdict.keys())\n",
    "thisdict[\"year\"] = 2005\n",
    "print(thisdict)\n",
    "thisdict[\"cum\"] = True\n",
    "print(thisdict)\n",
    "thisdict.pop(\"cum\")\n",
    "print(thisdict)\n",
    "thisdict.clear()\n",
    "print(thisdict)"
   ]
  },
  {
   "cell_type": "code",
   "execution_count": 17,
   "metadata": {},
   "outputs": [
    {
     "name": "stdout",
     "output_type": "stream",
     "text": [
      "wow\n",
      "No\n"
     ]
    }
   ],
   "source": [
    "a = int(input(\"Input a number: \"))\n",
    "b = 400\n",
    "if a < b :\n",
    "    print('wow')\n",
    "elif a == b:\n",
    "    print('no') \n",
    "else:\n",
    "    print('now')\n",
    "    \n",
    "print('Yes') if a > b else print('No')"
   ]
  },
  {
   "cell_type": "code",
   "execution_count": 18,
   "metadata": {},
   "outputs": [
    {
     "name": "stdout",
     "output_type": "stream",
     "text": [
      "0\n",
      "1\n",
      "2\n",
      "3\n",
      "4\n",
      "5\n",
      "6\n"
     ]
    }
   ],
   "source": [
    "i = 0\n",
    "while i < 7:\n",
    "    print(i)\n",
    "    i += 1\n",
    "    if i == 8:\n",
    "        break\n",
    "    elif i == 5:\n",
    "        pass\n",
    "    elif i == 2:\n",
    "        continue\n"
   ]
  },
  {
   "cell_type": "code",
   "execution_count": 19,
   "metadata": {},
   "outputs": [
    {
     "name": "stdout",
     "output_type": "stream",
     "text": [
      "apple\n",
      "banana\n",
      "cherry\n"
     ]
    }
   ],
   "source": [
    "ban = [\"apple\", \"banana\", \"cherry\"]\n",
    "for i in ban:\n",
    "    print(i)"
   ]
  },
  {
   "cell_type": "code",
   "execution_count": 20,
   "metadata": {},
   "outputs": [
    {
     "name": "stdout",
     "output_type": "stream",
     "text": [
      "coke\n",
      "water\n",
      "8\n"
     ]
    }
   ],
   "source": [
    "def prin(x, y):\n",
    "    print(x)\n",
    "    print(y)\n",
    "\n",
    "\n",
    "prin('coke', 'water')\n",
    "\n",
    "def cal(x):\n",
    "    return x * 2\n",
    "\n",
    "def no_context():\n",
    "    pass\n",
    "\n",
    "print(cal(4))"
   ]
  },
  {
   "cell_type": "code",
   "execution_count": 21,
   "metadata": {},
   "outputs": [
    {
     "name": "stdout",
     "output_type": "stream",
     "text": [
      "30\n",
      "15\n"
     ]
    }
   ],
   "source": [
    "#Lambda\n",
    "x = lambda a : a + 10\n",
    "y = lambda a, b : a * b\n",
    "print(y(5, 6))\n",
    "print(x(5))"
   ]
  },
  {
   "cell_type": "code",
   "execution_count": 22,
   "metadata": {},
   "outputs": [
    {
     "name": "stdout",
     "output_type": "stream",
     "text": [
      "5\n"
     ]
    }
   ],
   "source": [
    "# Classes\n",
    "class Myclass:\n",
    "    x = 5\n",
    "\n",
    "p1 = Myclass()\n",
    "print(p1.x)"
   ]
  },
  {
   "cell_type": "code",
   "execution_count": 23,
   "metadata": {},
   "outputs": [
    {
     "name": "stdout",
     "output_type": "stream",
     "text": [
      "John\n",
      "32\n"
     ]
    }
   ],
   "source": [
    "\n",
    "class Person:\n",
    "  def __init__(self, name, age):\n",
    "    self.name = name\n",
    "    self.age = age\n",
    "p1 = Person(\"John\", 32)\n",
    "\n",
    "print(p1.name)\n",
    "print(p1.age)"
   ]
  },
  {
   "cell_type": "code",
   "execution_count": 27,
   "metadata": {},
   "outputs": [
    {
     "name": "stdout",
     "output_type": "stream",
     "text": [
      "John(36)\n"
     ]
    }
   ],
   "source": [
    "class Person:\n",
    "  def __init__(self, name, age):\n",
    "    self.name = name\n",
    "    self.age = age\n",
    "\n",
    "  def __str__(self):\n",
    "    return f\"{self.name}({self.age})\"\n",
    "\n",
    "p1 = Person(\"John\", 36)\n",
    "\n",
    "print(p1)\n",
    "\n",
    "class Student(Person):\n",
    "    pass\n",
    "\n",
    "x = Student(\"Mike\", \"Olsen\")\n",
    "# x.printname()"
   ]
  }
 ],
 "metadata": {
  "kernelspec": {
   "display_name": "Python 3",
   "language": "python",
   "name": "python3"
  },
  "language_info": {
   "codemirror_mode": {
    "name": "ipython",
    "version": 3
   },
   "file_extension": ".py",
   "mimetype": "text/x-python",
   "name": "python",
   "nbconvert_exporter": "python",
   "pygments_lexer": "ipython3",
   "version": "3.11.3"
  },
  "orig_nbformat": 4
 },
 "nbformat": 4,
 "nbformat_minor": 2
}
